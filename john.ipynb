{
  "nbformat": 4,
  "nbformat_minor": 0,
  "metadata": {
    "colab": {
      "provenance": [],
      "authorship_tag": "ABX9TyNXIFHzKqlY3vvyy2dN0jGo",
      "include_colab_link": true
    },
    "kernelspec": {
      "name": "python3",
      "display_name": "Python 3"
    },
    "language_info": {
      "name": "python"
    }
  },
  "cells": [
    {
      "cell_type": "markdown",
      "metadata": {
        "id": "view-in-github",
        "colab_type": "text"
      },
      "source": [
        "<a href=\"https://colab.research.google.com/github/alesanco-es/Apuntes/blob/main/john.ipynb\" target=\"_parent\"><img src=\"https://colab.research.google.com/assets/colab-badge.svg\" alt=\"Open In Colab\"/></a>"
      ]
    },
    {
      "cell_type": "code",
      "execution_count": null,
      "metadata": {
        "id": "ePv5VW-IFe5n"
      },
      "outputs": [],
      "source": [
        "# Empezamos por descargar el paquete de john\n",
        "!wget https://github.com/magnumripper/JohnTheRipper/tarball/bleeding-jumbo\n",
        "!tar -xvzf bleeding-jumbo >/dev/null\n",
        "!mv openwall-john-3423642 john \n",
        "!wget -O file.pdf https://github.com/alesanco-es/Apuntes/raw/main/123QW..pdf \n",
        "!perl john/run/pdf2john.pl file.pdf | sed \"s/::.*$//\" | sed \"s/^.*://\" > MyPDF-Hash-ej1.txt\n",
        "!cat MyPDF-Hash-ej1.txt"
      ]
    },
    {
      "cell_type": "markdown",
      "source": [
        "Ahora, lo podríamos subir a pastebin para tenerlo disponible para la descarga. Notar que pastebin es publico, por lo que si se quiere mantener el hash privado, habría que buscar otra opción"
      ],
      "metadata": {
        "id": "itB45GKNFn6P"
      }
    }
  ]
}