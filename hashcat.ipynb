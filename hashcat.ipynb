{
  "nbformat": 4,
  "nbformat_minor": 0,
  "metadata": {
    "colab": {
      "provenance": [],
      "authorship_tag": "ABX9TyPmOVRHg+CvLJEbrnUydjdO",
      "include_colab_link": true
    },
    "kernelspec": {
      "name": "python3",
      "display_name": "Python 3"
    },
    "language_info": {
      "name": "python"
    },
    "accelerator": "GPU",
    "gpuClass": "standard"
  },
  "cells": [
    {
      "cell_type": "markdown",
      "metadata": {
        "id": "view-in-github",
        "colab_type": "text"
      },
      "source": [
        "<a href=\"https://colab.research.google.com/github/alesanco-es/Apuntes/blob/main/hashcat.ipynb\" target=\"_parent\"><img src=\"https://colab.research.google.com/assets/colab-badge.svg\" alt=\"Open In Colab\"/></a>"
      ]
    },
    {
      "cell_type": "code",
      "execution_count": null,
      "metadata": {
        "id": "YTMy3Yevjv0N"
      },
      "outputs": [],
      "source": [
        "# 1. Run the preparation basis\n",
        "# Edit the wordlists and rules you want\n",
        "rockyou = False\n",
        "hashesorg2019 = False # huge wordlist (~12GB, ~6mins download)\n",
        "quickrules = False # hob064.rule\n",
        "extensiverules = False # d3adhob0.rule\n",
        "import os"
      ]
    },
    {
      "cell_type": "code",
      "source": [
        "def install():\n",
        "  rules_dir = \"rules\"\n",
        "  wordlists_dir = \"wordlists\"\n",
        "  # Removing the default sample data\n",
        "  !rm -r sample_data/\n",
        "  # Installing hashcat\n",
        "  print(\"[+] Installation of hashcat...\")\n",
        "  !apt install cmake build-essential -y\n",
        "  !apt install checkinstall git -y\n",
        "  !git clone https://github.com/hashcat/hashcat.git && cd hashcat && make -j 8 && make install\n",
        "  # Installing wordlists\n",
        "  os.system(\"wordlists_dir={}\".format(wordlists_dir))\n",
        "  !mkdir ./$wordlists_dir\n",
        "  if rockyou:\n",
        "      !printf \"[+] Downloading the Rockyou wordlist...\\n\"\n",
        "      !cd $wordlists_dir && wget https://download.weakpass.com/wordlists/90/rockyou.txt.gz\n",
        "      !printf \"[+] Wordlist downloaded !\\n[+] Extraction...\\n\"\n",
        "      !cd $wordlists_dir && gunzip rockyou.txt.gz\n",
        "      !printf \"[+] Finished !\\n[+] Location : $(pwd)/$wordlists_dir/$(ls wordlists | grep rockyou)\"\n",
        "  if hashesorg2019:\n",
        "      !printf \"[+] Downloading the HashesOrg2019 wordlist...\\n\"\n",
        "      !cd $wordlists_dir && wget https://download.weakpass.com/wordlists/1851/hashesorg2019.gz\n",
        "      !printf \"[+] Wordlist downloaded !\\n[+] Extraction...\\n\"\n",
        "      !cd $wordlists_dir && gunzip hashesorg2019.gz\n",
        "      !printf \"[+] Finished !\\n[+] Location : $(pwd)/$wordlists_dir/$(ls wordlists | grep hashesorg2019)\"\n",
        "  # Installing rules\n",
        "  os.system(\"rules_dir={}\".format(rules_dir))\n",
        "  !mkdir ./$rules_dir\n",
        "  if quickrules:\n",
        "      !printf \"[+] Downloading the hob064 ruleset...\\n\"\n",
        "      !cd $rules_dir && wget https://raw.githubusercontent.com/praetorian-inc/Hob0Rules/master/hob064.rule\n",
        "      !printf \"[+] Rules downloaded !\\n\"\n",
        "      !printf \"[+] Location : $(pwd)/$rules_dir/$(ls rules | grep hob064)\"\n",
        "  if extensiverules:\n",
        "      !printf \"[+] Downloading the d3adhob0 ruleset...\\n\"\n",
        "      !cd $rules_dir && wget https://raw.githubusercontent.com/praetorian-inc/Hob0Rules/master/d3adhob0.rule\n",
        "      !printf \"[+] Rules downloaded !\\n\"\n",
        "      !printf \"[+] Location : $(pwd)/$rules_dir/$(ls rules | grep d3adhob0)\""
      ],
      "metadata": {
        "id": "GQkWryisj_7G"
      },
      "execution_count": null,
      "outputs": []
    },
    {
      "cell_type": "code",
      "source": [
        "install()\n",
        "!printf \"\\n[+] Install is over, listing rules and wordlists...\\n\"\n",
        "!ls rules wordlists"
      ],
      "metadata": {
        "id": "UErQb8MlknFx"
      },
      "execution_count": null,
      "outputs": []
    },
    {
      "cell_type": "code",
      "source": [
        "!wget https://pastebin.com/raw/XrjPZE8E"
      ],
      "metadata": {
        "id": "9gyl5lfykrWB"
      },
      "execution_count": null,
      "outputs": []
    },
    {
      "cell_type": "code",
      "source": [
        "!hashcat -a 3 -m 10500 XrjPZE8E '?a?a?a?a?a?a' -O"
      ],
      "metadata": {
        "id": "4VvIXXIEkv4w"
      },
      "execution_count": null,
      "outputs": []
    },
    {
      "cell_type": "markdown",
      "source": [],
      "metadata": {
        "id": "Jo_jVxEUkFMi"
      }
    }
  ]
}